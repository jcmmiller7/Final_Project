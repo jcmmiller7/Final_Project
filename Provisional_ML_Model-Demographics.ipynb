{
 "cells": [
  {
   "cell_type": "code",
   "execution_count": 1,
   "id": "657c2de7",
   "metadata": {},
   "outputs": [],
   "source": [
    "import pandas as pd\n",
    "from sklearn.linear_model import LogisticRegression\n",
    "from sklearn.model_selection import train_test_split\n",
    "from sklearn.preprocessing import StandardScaler\n",
    "from sklearn.metrics import confusion_matrix\n",
    "from sklearn.metrics import accuracy_score\n",
    "from sklearn.ensemble import RandomForestClassifier\n",
    "from sklearn.svm import SVC"
   ]
  },
  {
   "cell_type": "markdown",
   "id": "f71b08fe",
   "metadata": {},
   "source": [
    "# Read the CSV and Perform Basic Data Cleaning"
   ]
  },
  {
   "cell_type": "code",
   "execution_count": 2,
   "id": "21497e48",
   "metadata": {},
   "outputs": [
    {
     "data": {
      "text/plain": [
       "CensusTract           int64\n",
       "Pop2010               int64\n",
       "PctLA               float64\n",
       "PctWhite            float64\n",
       "PctBlack            float64\n",
       "PctAsian            float64\n",
       "PctHispanic         float64\n",
       "PctOtherMinority    float64\n",
       "LA1and10              int64\n",
       "dtype: object"
      ]
     },
     "execution_count": 2,
     "metadata": {},
     "output_type": "execute_result"
    }
   ],
   "source": [
    "# Load the data\n",
    "file = 'FoodAccessDemographics.csv'\n",
    "df = pd.read_csv(file)\n",
    "# check data type\n",
    "df.dtypes "
   ]
  },
  {
   "cell_type": "code",
   "execution_count": 4,
   "id": "b29ebc20",
   "metadata": {},
   "outputs": [
    {
     "name": "stdout",
     "output_type": "stream",
     "text": [
      "Column CensusTract has 0 null values\n",
      "Column Pop2010 has 0 null values\n",
      "Column PctLA has 0 null values\n",
      "Column PctWhite has 4 null values\n",
      "Column PctBlack has 4 null values\n",
      "Column PctAsian has 4 null values\n",
      "Column PctHispanic has 4 null values\n",
      "Column PctOtherMinority has 4 null values\n",
      "Column LA1and10 has 0 null values\n"
     ]
    }
   ],
   "source": [
    "# Find null values\n",
    "for column in df.columns :\n",
    "    print(f\"Column {column} has {df[column].isnull().sum()} null values\")"
   ]
  },
  {
   "cell_type": "code",
   "execution_count": 47,
   "id": "d3bc1d8f",
   "metadata": {},
   "outputs": [],
   "source": [
    "# Remove null rows\n",
    "#--Median Family Income has 748 null values which is 1.04%. This figure is insignificant compared to the importance of the\n",
    "#feature towards prediction. So we deciide to drop null values than remove the column.\n",
    "df=df.dropna()"
   ]
  },
  {
   "cell_type": "code",
   "execution_count": 48,
   "id": "1fac3d0b",
   "metadata": {},
   "outputs": [
    {
     "name": "stdout",
     "output_type": "stream",
     "text": [
      "Duplicate entries: 0\n"
     ]
    }
   ],
   "source": [
    "#Find duplicate entries\n",
    "print(f\"Duplicate entries: {df.duplicated().sum()}\")"
   ]
  },
  {
   "cell_type": "markdown",
   "id": "262dd318",
   "metadata": {},
   "source": [
    "# Define Model"
   ]
  },
  {
   "cell_type": "code",
   "execution_count": 49,
   "id": "dbd2cb13",
   "metadata": {},
   "outputs": [],
   "source": [
    "# Create features\n",
    "X = df.drop(columns=['CensusTract',\"LA1and10\"]) \n",
    "\n",
    "# Create target\n",
    "y = df[\"LA1and10\"]\n",
    "\n",
    "# Split model\n",
    "X_train, X_test, y_train, y_test = train_test_split(X,\n",
    "    y, random_state=1)\n",
    "\n",
    "# Create a StandardScaler instance\n",
    "scaler = StandardScaler()\n",
    "\n",
    "# Fit the StandardScaler\n",
    "X_scaler = scaler.fit(X_train)\n",
    "\n",
    "# Scale the data\n",
    "X_train_scaled = X_scaler.transform(X_train)\n",
    "X_test_scaled = X_scaler.transform(X_test)\n"
   ]
  },
  {
   "cell_type": "markdown",
   "id": "b802d638",
   "metadata": {},
   "source": [
    "### Logistic Regression"
   ]
  },
  {
   "cell_type": "code",
   "execution_count": 50,
   "id": "6b25c2ff",
   "metadata": {},
   "outputs": [
    {
     "name": "stdout",
     "output_type": "stream",
     "text": [
      " Logistic regression model accuracy: 0.974\n"
     ]
    }
   ],
   "source": [
    "# Define model\n",
    "model = LogisticRegression(solver='lbfgs', random_state=1)\n",
    "# fit model\n",
    "\n",
    "# Fit model\n",
    "model.fit(X_train, y_train)\n",
    "# make predictions on the entire training dataset\n",
    "predictions = model.predict(X_test)\n",
    "\n",
    "# Evaluate the model\n",
    "y_pred = model.predict(X_test)\n",
    "print(f\" Logistic regression model accuracy: {accuracy_score(y_test,y_pred):.3f}\")"
   ]
  },
  {
   "cell_type": "code",
   "execution_count": 51,
   "id": "d38901af",
   "metadata": {},
   "outputs": [
    {
     "data": {
      "text/plain": [
       "array([[11031,   134],\n",
       "       [  336,  6631]], dtype=int64)"
      ]
     },
     "execution_count": 51,
     "metadata": {},
     "output_type": "execute_result"
    }
   ],
   "source": [
    "cm_logreg = confusion_matrix(y_test,y_pred)\n",
    "cm_logreg"
   ]
  },
  {
   "cell_type": "code",
   "execution_count": 52,
   "id": "0d2175ee",
   "metadata": {},
   "outputs": [
    {
     "name": "stdout",
     "output_type": "stream",
     "text": [
      " Logistic regression model accuracy: 0.981\n"
     ]
    }
   ],
   "source": [
    "#Run Logistic Regression on scaled data\n",
    "# Fit model\n",
    "model.fit(X_train_scaled, y_train)\n",
    "# make predictions on the entire training dataset\n",
    "predictions_scaled = model.predict(X_test_scaled)\n",
    "\n",
    "# Evaluate the model\n",
    "y_pred_scaled = model.predict(X_test_scaled)\n",
    "print(f\" Logistic regression model accuracy: {accuracy_score(y_test,y_pred_scaled):.3f}\")"
   ]
  },
  {
   "cell_type": "code",
   "execution_count": 53,
   "id": "02822a74",
   "metadata": {},
   "outputs": [
    {
     "data": {
      "text/plain": [
       "array([[11021,   144],\n",
       "       [  209,  6758]], dtype=int64)"
      ]
     },
     "execution_count": 53,
     "metadata": {},
     "output_type": "execute_result"
    }
   ],
   "source": [
    "confusion_matrix(y_test,y_pred_scaled)"
   ]
  },
  {
   "cell_type": "code",
   "execution_count": 54,
   "id": "103f3de5",
   "metadata": {},
   "outputs": [
    {
     "data": {
      "text/html": [
       "<div>\n",
       "<style scoped>\n",
       "    .dataframe tbody tr th:only-of-type {\n",
       "        vertical-align: middle;\n",
       "    }\n",
       "\n",
       "    .dataframe tbody tr th {\n",
       "        vertical-align: top;\n",
       "    }\n",
       "\n",
       "    .dataframe thead th {\n",
       "        text-align: right;\n",
       "    }\n",
       "</style>\n",
       "<table border=\"1\" class=\"dataframe\">\n",
       "  <thead>\n",
       "    <tr style=\"text-align: right;\">\n",
       "      <th></th>\n",
       "      <th>Prediction</th>\n",
       "      <th>Scaled Prediction</th>\n",
       "      <th>Actual</th>\n",
       "    </tr>\n",
       "  </thead>\n",
       "  <tbody>\n",
       "    <tr>\n",
       "      <th>26094</th>\n",
       "      <td>0</td>\n",
       "      <td>0</td>\n",
       "      <td>0</td>\n",
       "    </tr>\n",
       "    <tr>\n",
       "      <th>59902</th>\n",
       "      <td>0</td>\n",
       "      <td>0</td>\n",
       "      <td>0</td>\n",
       "    </tr>\n",
       "    <tr>\n",
       "      <th>31752</th>\n",
       "      <td>1</td>\n",
       "      <td>1</td>\n",
       "      <td>1</td>\n",
       "    </tr>\n",
       "    <tr>\n",
       "      <th>21514</th>\n",
       "      <td>0</td>\n",
       "      <td>0</td>\n",
       "      <td>0</td>\n",
       "    </tr>\n",
       "    <tr>\n",
       "      <th>11441</th>\n",
       "      <td>0</td>\n",
       "      <td>1</td>\n",
       "      <td>1</td>\n",
       "    </tr>\n",
       "  </tbody>\n",
       "</table>\n",
       "</div>"
      ],
      "text/plain": [
       "       Prediction  Scaled Prediction  Actual\n",
       "26094           0                  0       0\n",
       "59902           0                  0       0\n",
       "31752           1                  1       1\n",
       "21514           0                  0       0\n",
       "11441           0                  1       1"
      ]
     },
     "execution_count": 54,
     "metadata": {},
     "output_type": "execute_result"
    }
   ],
   "source": [
    "pd=pd.DataFrame({\"Prediction\": predictions, \"Scaled Prediction\":predictions_scaled, \"Actual\": y_test})\n",
    "pd.head()"
   ]
  },
  {
   "cell_type": "markdown",
   "id": "ff437f56",
   "metadata": {},
   "source": [
    "### Undersampling"
   ]
  },
  {
   "cell_type": "code",
   "execution_count": 55,
   "id": "abf48e3c",
   "metadata": {},
   "outputs": [],
   "source": [
    "from collections import Counter\n",
    "from imblearn.under_sampling import RandomUnderSampler"
   ]
  },
  {
   "cell_type": "code",
   "execution_count": 56,
   "id": "77f716d3",
   "metadata": {},
   "outputs": [
    {
     "data": {
      "text/plain": [
       "Counter({1: 27548, 0: 44979})"
      ]
     },
     "execution_count": 56,
     "metadata": {},
     "output_type": "execute_result"
    }
   ],
   "source": [
    "Counter(y)"
   ]
  },
  {
   "cell_type": "code",
   "execution_count": 57,
   "id": "1a1899e4",
   "metadata": {},
   "outputs": [
    {
     "data": {
      "text/plain": [
       "Counter({0: 20581, 1: 20581})"
      ]
     },
     "execution_count": 57,
     "metadata": {},
     "output_type": "execute_result"
    }
   ],
   "source": [
    "rus = RandomUnderSampler(random_state=1)\n",
    "X_resampled, y_resampled = rus.fit_resample(X_train, y_train)\n",
    "Counter(y_resampled)"
   ]
  },
  {
   "cell_type": "code",
   "execution_count": 58,
   "id": "d17ba71d",
   "metadata": {},
   "outputs": [
    {
     "name": "stdout",
     "output_type": "stream",
     "text": [
      " Resampled logistic regression model accuracy: 0.982\n"
     ]
    },
    {
     "name": "stderr",
     "output_type": "stream",
     "text": [
      "C:\\Users\\Yaekob\\.conda\\envs\\mlenv\\lib\\site-packages\\sklearn\\linear_model\\_logistic.py:765: ConvergenceWarning: lbfgs failed to converge (status=1):\n",
      "STOP: TOTAL NO. of ITERATIONS REACHED LIMIT.\n",
      "\n",
      "Increase the number of iterations (max_iter) or scale the data as shown in:\n",
      "    https://scikit-learn.org/stable/modules/preprocessing.html\n",
      "Please also refer to the documentation for alternative solver options:\n",
      "    https://scikit-learn.org/stable/modules/linear_model.html#logistic-regression\n",
      "  extra_warning_msg=_LOGISTIC_SOLVER_CONVERGENCE_MSG)\n"
     ]
    },
    {
     "data": {
      "text/plain": [
       "array([[10997,   168],\n",
       "       [  156,  6811]], dtype=int64)"
      ]
     },
     "execution_count": 58,
     "metadata": {},
     "output_type": "execute_result"
    }
   ],
   "source": [
    "# Retry Logistic Regression with undersampled data\n",
    "model.fit(X_resampled, y_resampled)\n",
    "y_pred_resamp = model.predict(X_test)\n",
    "print(f\" Resampled logistic regression model accuracy: {accuracy_score(y_test,y_pred_resamp):.3f}\")\n",
    "confusion_matrix(y_test, y_pred_resamp)"
   ]
  },
  {
   "cell_type": "markdown",
   "id": "1e0467d6",
   "metadata": {},
   "source": [
    "### SVM"
   ]
  },
  {
   "cell_type": "code",
   "execution_count": 59,
   "id": "a38c97c7",
   "metadata": {},
   "outputs": [
    {
     "name": "stdout",
     "output_type": "stream",
     "text": [
      " SVM model accuracy: 0.982\n"
     ]
    },
    {
     "data": {
      "text/plain": [
       "array([[11002,   163],\n",
       "       [  167,  6800]], dtype=int64)"
      ]
     },
     "execution_count": 59,
     "metadata": {},
     "output_type": "execute_result"
    }
   ],
   "source": [
    "# Create the SVM model\n",
    "svm = SVC(kernel='linear')\n",
    "\n",
    "# Train the model\n",
    "svm.fit(X_train_scaled, y_train)\n",
    "\n",
    "# Evaluate the model\n",
    "y_pred_svm = svm.predict(X_test_scaled)\n",
    "print(f\" SVM model accuracy: {accuracy_score(y_test,y_pred_svm):.3f}\")\n",
    "\n",
    "confusion_matrix(y_test, y_pred_svm)"
   ]
  },
  {
   "cell_type": "code",
   "execution_count": 60,
   "id": "7aaec955",
   "metadata": {},
   "outputs": [
    {
     "name": "stdout",
     "output_type": "stream",
     "text": [
      " SVM model accuracy: 0.995\n"
     ]
    },
    {
     "data": {
      "text/plain": [
       "array([[11145,    20],\n",
       "       [   70,  6897]], dtype=int64)"
      ]
     },
     "execution_count": 60,
     "metadata": {},
     "output_type": "execute_result"
    }
   ],
   "source": [
    "# Create the SVM model\n",
    "svm_rbf = SVC()\n",
    "\n",
    "# Train the model\n",
    "svm_rbf.fit(X_train_scaled, y_train)\n",
    "\n",
    "# Evaluate the model\n",
    "y_pred_svmrbf = svm_rbf.predict(X_test_scaled)\n",
    "print(f\" SVM model accuracy: {accuracy_score(y_test,y_pred_svmrbf):.3f}\")\n",
    "\n",
    "confusion_matrix(y_test, y_pred_svmrbf)"
   ]
  },
  {
   "cell_type": "markdown",
   "id": "cfbbe8b8",
   "metadata": {},
   "source": [
    "### Random Forest"
   ]
  },
  {
   "cell_type": "code",
   "execution_count": 61,
   "id": "14962507",
   "metadata": {},
   "outputs": [],
   "source": [
    "# Create Random Forest Classifier model\n",
    "rf_model = RandomForestClassifier(n_estimators=100, random_state=78) "
   ]
  },
  {
   "cell_type": "code",
   "execution_count": 62,
   "id": "2b7f447a",
   "metadata": {},
   "outputs": [
    {
     "name": "stdout",
     "output_type": "stream",
     "text": [
      "Random Forest model accuracy: 0.998\n"
     ]
    }
   ],
   "source": [
    "# Fitting the model\n",
    "rf_model = rf_model.fit(X_train_scaled, y_train)\n",
    "# Making predictions using the testing data.\n",
    "rf_y_pred = rf_model.predict(X_test_scaled)\n",
    "# Evaluate the model\n",
    "print(f\"Random Forest model accuracy: {accuracy_score(y_test,rf_y_pred):.3f}\")"
   ]
  },
  {
   "cell_type": "code",
   "execution_count": 63,
   "id": "942efb35",
   "metadata": {},
   "outputs": [
    {
     "data": {
      "text/plain": [
       "array([[11143,    22],\n",
       "       [   22,  6945]], dtype=int64)"
      ]
     },
     "execution_count": 63,
     "metadata": {},
     "output_type": "execute_result"
    }
   ],
   "source": [
    "confusion_matrix(y_test,rf_y_pred)"
   ]
  },
  {
   "cell_type": "code",
   "execution_count": 64,
   "id": "4dcd1942",
   "metadata": {},
   "outputs": [
    {
     "data": {
      "text/plain": [
       "array([0.04668019, 0.90476039, 0.01152447, 0.00612747, 0.00951762,\n",
       "       0.011283  , 0.01010687])"
      ]
     },
     "execution_count": 64,
     "metadata": {},
     "output_type": "execute_result"
    }
   ],
   "source": [
    "rf_model.feature_importances_\n",
    "\n",
    "\n",
    "Pop2010               int64\n",
    "PctLA               float64\n",
    "PctWhite            float64\n",
    "PctBlack            float64\n",
    "PctAsian            float64\n",
    "PctHispanic         float64\n",
    "PctOtherMinority    float64\n",
    "\n",
    "\n"
   ]
  },
  {
   "cell_type": "markdown",
   "id": "1dd7136f",
   "metadata": {},
   "source": [
    "### Neural Network"
   ]
  },
  {
   "cell_type": "code",
   "execution_count": 65,
   "id": "c521ea0e",
   "metadata": {},
   "outputs": [],
   "source": [
    "# import tensorflow as tf"
   ]
  },
  {
   "cell_type": "code",
   "execution_count": 66,
   "id": "310d4357",
   "metadata": {},
   "outputs": [],
   "source": [
    "# # Define neural network model\n",
    "# nn_model = tf.keras.models.Sequential()\n",
    "# nn_model.add(tf.keras.layers.Dense(units=14, activation=\"relu\", input_dim=7))\n",
    "# #nn_model.add(tf.keras.layers.Dense(units=6, activation=\"relu\"))\n",
    "# nn_model.add(tf.keras.layers.Dense(units=1, activation=\"sigmoid\"))\n",
    "\n",
    "# # Compile the Sequential model together and customize metrics\n",
    "# nn_model.compile(loss=\"binary_crossentropy\", optimizer=\"adam\", metrics=[\"accuracy\"])\n",
    "\n",
    "# # Train the model\n",
    "# fit_model = nn_model.fit(X_train_scaled, y_train, epochs=50)\n",
    "\n",
    "# # Evaluate the model using the test data\n",
    "# model_loss, model_accuracy = nn_model.evaluate(X_test_scaled,y_test,verbose=2)\n",
    "# print(f\"Loss: {model_loss}, Accuracy: {model_accuracy}\")"
   ]
  },
  {
   "cell_type": "code",
   "execution_count": 67,
   "id": "d80b7c1e",
   "metadata": {},
   "outputs": [
    {
     "name": "stdout",
     "output_type": "stream",
     "text": [
      "Logistic Regression: 0.974\n",
      "Scaled Logistic Regression: 0.981\n",
      "Undersampled Logistic Regression: 0.982\n",
      "SVM Accuracy: 0.982\n"
     ]
    }
   ],
   "source": [
    "print(f'Logistic Regression: {accuracy_score(y_test,y_pred):.3f}')\n",
    "print(f'Scaled Logistic Regression: {accuracy_score(y_test,y_pred_scaled):.3f}')\n",
    "print(f'Undersampled Logistic Regression: {accuracy_score(y_test,y_pred_resamp):.3f}')\n",
    "print(f'SVM Accuracy: {accuracy_score(y_test,y_pred_svm):.3f}')"
   ]
  }
 ],
 "metadata": {
  "interpreter": {
   "hash": "86969af4118fd2beaee010b14a97d3c8fe7dc31ff55f1528eea7eaecb45368d6"
  },
  "kernelspec": {
   "display_name": "mlenv",
   "language": "python",
   "name": "mlenv"
  },
  "language_info": {
   "codemirror_mode": {
    "name": "ipython",
    "version": 3
   },
   "file_extension": ".py",
   "mimetype": "text/x-python",
   "name": "python",
   "nbconvert_exporter": "python",
   "pygments_lexer": "ipython3",
   "version": "3.7.10"
  }
 },
 "nbformat": 4,
 "nbformat_minor": 5
}
